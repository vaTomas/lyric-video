{
  "cells": [
    {
      "cell_type": "markdown",
      "metadata": {
        "id": "view-in-github",
        "colab_type": "text"
      },
      "source": [
        "<a href=\"https://colab.research.google.com/github/vaTomas/lyric-video/blob/notebooks/notebooks/demo.ipynb\" target=\"_parent\"><img src=\"https://colab.research.google.com/assets/colab-badge.svg\" alt=\"Open In Colab\"/></a>"
      ]
    },
    {
      "cell_type": "markdown",
      "source": [
        "##Startup"
      ],
      "metadata": {
        "id": "sjAVodKvOnft"
      },
      "id": "sjAVodKvOnft"
    },
    {
      "cell_type": "markdown",
      "source": [
        "### Clone Repository"
      ],
      "metadata": {
        "id": "U2r_Q92WNBYN"
      },
      "id": "U2r_Q92WNBYN"
    },
    {
      "cell_type": "code",
      "execution_count": null,
      "id": "3bd7e792",
      "metadata": {
        "vscode": {
          "languageId": "plaintext"
        },
        "id": "3bd7e792"
      },
      "outputs": [],
      "source": [
        "!git clone https://github.com/vaTomas/lyric-video.git"
      ]
    },
    {
      "cell_type": "markdown",
      "source": [
        "### Install Dependencies"
      ],
      "metadata": {
        "id": "LcpUIUGbiLlA"
      },
      "id": "LcpUIUGbiLlA"
    },
    {
      "cell_type": "code",
      "source": [
        "%pip install '/content/lyric-video/'"
      ],
      "metadata": {
        "collapsed": true,
        "id": "YKy_ojbRNao0"
      },
      "id": "YKy_ojbRNao0",
      "execution_count": null,
      "outputs": []
    },
    {
      "cell_type": "markdown",
      "source": [
        "### Make Directories\n",
        "This block will create folders on where inputs can be placed."
      ],
      "metadata": {
        "id": "5BED-CDzQFIp"
      },
      "id": "5BED-CDzQFIp"
    },
    {
      "cell_type": "code",
      "source": [
        "import os\n",
        "\n",
        "media_base_dir = '/content/user_media'\n",
        "\n",
        "if not os.path.exists(media_base_dir):\n",
        "    os.makedirs(media_base_dir)\n",
        "    print(f\"Created directory: {media_base_dir}\")\n",
        "\n",
        "subdirectories = ['subtitles', 'music', 'images', 'font', 'outputs']\n",
        "\n",
        "for subdir in subdirectories:\n",
        "    subdir_path = os.path.join(media_base_dir, subdir)\n",
        "    if not os.path.exists(subdir_path):\n",
        "        os.makedirs(subdir_path)\n",
        "        print(f\"Created directory: {subdir_path}\")\n",
        "    else:\n",
        "        print(f\"Directory already exists: {subdir_path}\")"
      ],
      "metadata": {
        "id": "_7L3lFTYQIoA"
      },
      "id": "_7L3lFTYQIoA",
      "execution_count": null,
      "outputs": []
    },
    {
      "cell_type": "markdown",
      "source": [
        "## Configuration\n",
        "\n",
        "You can get your font files from https://www.dafont.com/.\n",
        "You can get your subtitles from https://www.rentanadviser.com/subtitles/subtitle-finder-for-youtube-music-videos.aspx"
      ],
      "metadata": {
        "id": "Qy3V6j9FkKBc"
      },
      "id": "Qy3V6j9FkKBc"
    },
    {
      "cell_type": "code",
      "source": [
        "# Resolution\n",
        "display_width = 1920\n",
        "display_height = 1080\n",
        "\n",
        "# Text Font\n",
        "font_size = 180\n",
        "font_style = '/content/user_media/font/font.otf'\n",
        "font_color = 'black'\n",
        "\n",
        "# Background\n",
        "background_color = 'white'\n",
        "\n",
        "# Subtitles\n",
        "subtitles_path = '/content/user_media/subtitles/subtitle.srt'\n",
        "\n",
        "# Images\n",
        "image_size = 400\n",
        "\n",
        "# Output\n",
        "output_directory = '/content/user_media/outputs/'"
      ],
      "metadata": {
        "id": "SdB1ELH9kGtV"
      },
      "id": "SdB1ELH9kGtV",
      "execution_count": null,
      "outputs": []
    },
    {
      "cell_type": "markdown",
      "source": [
        "### Preview"
      ],
      "metadata": {
        "id": "gf0UWQhqkcsr"
      },
      "id": "gf0UWQhqkcsr"
    },
    {
      "cell_type": "code",
      "source": [
        "from PIL import ImageFont, Image\n",
        "from elements import TextElement\n",
        "\n",
        "sample_text = 'Hello World!'\n",
        "\n",
        "font_obj = ImageFont.truetype(font_style, font_size)\n",
        "text_element = TextElement(\n",
        "    text=sample_text,\n",
        "    font=font_obj,\n",
        "    text_color=font_color,\n",
        "    position = (display_width / 2, display_height / 2)\n",
        ")\n",
        "\n",
        "preview_image = Image.new('RGB', (display_width, display_height), background_color)\n",
        "text_element.draw(preview_image)\n",
        "display(preview_image)"
      ],
      "metadata": {
        "id": "0Kg9sTJzkbX9"
      },
      "id": "0Kg9sTJzkbX9",
      "execution_count": null,
      "outputs": []
    },
    {
      "cell_type": "markdown",
      "source": [
        "##Subtitles\n",
        "Upload subtitle file in the 'user_media/subtitles' folder.\n",
        "\n",
        "The code block below extracts subtitle information from the .srt file and converts them into Subtitle objects."
      ],
      "metadata": {
        "id": "A4AQ2smzPtdZ"
      },
      "id": "A4AQ2smzPtdZ"
    },
    {
      "cell_type": "code",
      "source": [
        "from subtitle import get_subtitles\n",
        "\n",
        "subtitles = get_subtitles(subtitles_path)\n",
        "\n",
        "print(f'Extracted {len(subtitles)} subtitles.')"
      ],
      "metadata": {
        "collapsed": true,
        "id": "5VpOc4YaSbRT"
      },
      "id": "5VpOc4YaSbRT",
      "execution_count": null,
      "outputs": []
    },
    {
      "cell_type": "markdown",
      "source": [
        "##Objects"
      ],
      "metadata": {
        "id": "_TZ1TmRiVsB_"
      },
      "id": "_TZ1TmRiVsB_"
    },
    {
      "cell_type": "markdown",
      "source": [
        "###Create Scene Objects"
      ],
      "metadata": {
        "id": "EHAK2TwRUdxa"
      },
      "id": "EHAK2TwRUdxa"
    },
    {
      "cell_type": "code",
      "source": [
        "from Scene import Scene\n",
        "\n",
        "canvas_size = int((2 * (display_width * display_height) * len(subtitles)) ** (1/2))\n",
        "resolution = (display_width, display_height)\n",
        "\n",
        "scene_text = Scene(canvas_size, canvas_size)\n",
        "\n",
        "print(f'Created scene with canvas size {canvas_size}.')"
      ],
      "metadata": {
        "id": "A5G6nIBRUffF"
      },
      "id": "A5G6nIBRUffF",
      "execution_count": null,
      "outputs": []
    },
    {
      "cell_type": "markdown",
      "source": [
        "###Create Text Objects"
      ],
      "metadata": {
        "id": "jRUrLJgsTzdV"
      },
      "id": "jRUrLJgsTzdV"
    },
    {
      "cell_type": "markdown",
      "source": [
        "Place your font file to '/content/usermedia/font'\n",
        "\n",
        "You can get your font files from https://www.dafont.com/."
      ],
      "metadata": {
        "id": "5MOwsGb7WrXz"
      },
      "id": "5MOwsGb7WrXz"
    },
    {
      "cell_type": "code",
      "source": [
        "from elements import TextElement\n",
        "\n",
        "scene_text.elements = []\n",
        "for subtile in subtitles:\n",
        "        text_element = TextElement(\n",
        "            text=subtile.content, start=subtile.start, end=subtile.end, font=font_obj\n",
        "        )\n",
        "        scene_text.add_object(text_element)\n",
        "\n",
        "print(f'Created {len(scene_text.elements)} text objects inside scene.')"
      ],
      "metadata": {
        "id": "91RRgS86T3C7"
      },
      "id": "91RRgS86T3C7",
      "execution_count": null,
      "outputs": []
    },
    {
      "cell_type": "code",
      "source": [
        "min_element_width = canvas_size\n",
        "for element in scene_text.elements:\n",
        "    element_width = element.object_box_size[0]\n",
        "    min_element_width = min(element_width, min_element_width)\n",
        "view_padding = (max(resolution) - min_element_width) / 2\n",
        "\n",
        "print(f'Resolution: {resolution}.')\n",
        "print(f'Minimum element width: {min_element_width}.')\n",
        "print(f'Calculated view padding: {view_padding}.')"
      ],
      "metadata": {
        "id": "OWntEybquIMi"
      },
      "id": "OWntEybquIMi",
      "execution_count": null,
      "outputs": []
    },
    {
      "cell_type": "code",
      "source": [
        "import math\n",
        "\n",
        "for element in scene_text.elements:\n",
        "    index = scene_text.element_index(element)\n",
        "    if index == 0:\n",
        "        scene_text.move_random(\n",
        "            element, constrain_to_artboard=True, artboard_margin=view_padding\n",
        "        )\n",
        "        continue\n",
        "\n",
        "    if not scene_text.move_next(\n",
        "        element,\n",
        "        scene_text.elements[index - 1],\n",
        "        minimum_distance=view_padding + image_size * math.sqrt(2) / 2,\n",
        "        artboard_margin=view_padding,\n",
        "    ):\n",
        "        break\n",
        "\n",
        "print(f\"Placed {len(scene_text.elements)} of {len(subtitles)} text lyrics.\")\n",
        "if len(scene_text.elements) != len(subtitles):\n",
        "    f\"Only placed {len(scene_text.elements)} of {len(subtitles)} text lyrics\""
      ],
      "metadata": {
        "id": "jdR6kQqUvZP7"
      },
      "id": "jdR6kQqUvZP7",
      "execution_count": null,
      "outputs": []
    },
    {
      "cell_type": "markdown",
      "source": [
        "## Render Images"
      ],
      "metadata": {
        "id": "D8YJJxXHyZ_m"
      },
      "id": "D8YJJxXHyZ_m"
    },
    {
      "cell_type": "code",
      "source": [
        "import datetime\n",
        "\n",
        "datetime_now = datetime.datetime.now()\n",
        "datetime_now = datetime_now.strftime(\"%Y_%m_%d_%H%M%S\")\n",
        "\n",
        "scene_text.image = Image.new(\"RGBA\", (canvas_size, canvas_size), None)\n",
        "\n",
        "scene_text.draw_objects()\n",
        "scene_text_path = os.path.join(\n",
        "        output_directory, f\"{datetime_now}_image_text.png\"\n",
        "    )\n",
        "scene_text.save(scene_text_path)\n",
        "\n",
        "print(f\"Saved text scene to {scene_text_path}.\")\n",
        "display(scene_text.image)"
      ],
      "metadata": {
        "id": "XfG2CXm1x5M4"
      },
      "id": "XfG2CXm1x5M4",
      "execution_count": null,
      "outputs": []
    }
  ],
  "metadata": {
    "language_info": {
      "name": "python"
    },
    "colab": {
      "provenance": [],
      "include_colab_link": true
    },
    "kernelspec": {
      "name": "python3",
      "display_name": "Python 3"
    }
  },
  "nbformat": 4,
  "nbformat_minor": 5
}