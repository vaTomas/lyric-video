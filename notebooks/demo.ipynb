{
  "cells": [
    {
      "cell_type": "markdown",
      "metadata": {
        "id": "view-in-github",
        "colab_type": "text"
      },
      "source": [
        "<a href=\"https://colab.research.google.com/github/vaTomas/lyric-video/blob/notebooks/notebooks/demo.ipynb\" target=\"_parent\"><img src=\"https://colab.research.google.com/assets/colab-badge.svg\" alt=\"Open In Colab\"/></a>"
      ]
    },
    {
      "cell_type": "markdown",
      "source": [
        "##Startup"
      ],
      "metadata": {
        "id": "sjAVodKvOnft"
      },
      "id": "sjAVodKvOnft"
    },
    {
      "cell_type": "markdown",
      "source": [
        "### Install Dependencies"
      ],
      "metadata": {
        "id": "U2r_Q92WNBYN"
      },
      "id": "U2r_Q92WNBYN"
    },
    {
      "cell_type": "code",
      "execution_count": 3,
      "id": "3bd7e792",
      "metadata": {
        "vscode": {
          "languageId": "plaintext"
        },
        "id": "3bd7e792",
        "outputId": "74ba4f3f-e509-43ec-ced8-efcda8b5a66a",
        "colab": {
          "base_uri": "https://localhost:8080/"
        }
      },
      "outputs": [
        {
          "output_type": "stream",
          "name": "stdout",
          "text": [
            "fatal: destination path 'lyric-video' already exists and is not an empty directory.\n"
          ]
        }
      ],
      "source": [
        "!git clone https://github.com/vaTomas/lyric-video.git"
      ]
    },
    {
      "cell_type": "code",
      "source": [
        "%pip install '/content/lyric-video/'"
      ],
      "metadata": {
        "colab": {
          "base_uri": "https://localhost:8080/",
          "height": 705
        },
        "collapsed": true,
        "id": "YKy_ojbRNao0",
        "outputId": "370e6383-086a-45d5-e471-75afe44ffc41"
      },
      "id": "YKy_ojbRNao0",
      "execution_count": 4,
      "outputs": [
        {
          "output_type": "stream",
          "name": "stdout",
          "text": [
            "Processing ./lyric-video\n",
            "  Installing build dependencies ... \u001b[?25l\u001b[?25hdone\n",
            "  Getting requirements to build wheel ... \u001b[?25l\u001b[?25hdone\n",
            "  Preparing metadata (pyproject.toml) ... \u001b[?25l\u001b[?25hdone\n",
            "Requirement already satisfied: pillow>=10.4.0 in /usr/local/lib/python3.11/dist-packages (from lyric_video==0.0.1) (10.4.0)\n",
            "Requirement already satisfied: pytest>=8.3.5 in /usr/local/lib/python3.11/dist-packages (from lyric_video==0.0.1) (8.3.5)\n",
            "Requirement already satisfied: python-dateutil>=2.8.2 in /usr/local/lib/python3.11/dist-packages (from lyric_video==0.0.1) (2.9.0.post0)\n",
            "Requirement already satisfied: srt>=3.5.3 in /usr/local/lib/python3.11/dist-packages (from lyric_video==0.0.1) (3.5.3)\n",
            "Requirement already satisfied: opencv-python>=4.11.0.86 in /usr/local/lib/python3.11/dist-packages (from lyric_video==0.0.1) (4.11.0.86)\n",
            "Requirement already satisfied: numpy>=1.26.4 in /usr/local/lib/python3.11/dist-packages (from lyric_video==0.0.1) (2.0.2)\n",
            "Requirement already satisfied: moviepy>=2.1.2 in /usr/local/lib/python3.11/dist-packages (from lyric_video==0.0.1) (2.1.2)\n",
            "Requirement already satisfied: scipy>=1.12.0 in /usr/local/lib/python3.11/dist-packages (from lyric_video==0.0.1) (1.15.3)\n",
            "Requirement already satisfied: decorator<6.0,>=4.0.2 in /usr/local/lib/python3.11/dist-packages (from moviepy>=2.1.2->lyric_video==0.0.1) (4.4.2)\n",
            "Requirement already satisfied: imageio<3.0,>=2.5 in /usr/local/lib/python3.11/dist-packages (from moviepy>=2.1.2->lyric_video==0.0.1) (2.37.0)\n",
            "Requirement already satisfied: imageio_ffmpeg>=0.2.0 in /usr/local/lib/python3.11/dist-packages (from moviepy>=2.1.2->lyric_video==0.0.1) (0.6.0)\n",
            "Requirement already satisfied: proglog<=1.0.0 in /usr/local/lib/python3.11/dist-packages (from moviepy>=2.1.2->lyric_video==0.0.1) (0.1.12)\n",
            "Requirement already satisfied: python-dotenv>=0.10 in /usr/local/lib/python3.11/dist-packages (from moviepy>=2.1.2->lyric_video==0.0.1) (1.1.0)\n",
            "Requirement already satisfied: iniconfig in /usr/local/lib/python3.11/dist-packages (from pytest>=8.3.5->lyric_video==0.0.1) (2.1.0)\n",
            "Requirement already satisfied: packaging in /usr/local/lib/python3.11/dist-packages (from pytest>=8.3.5->lyric_video==0.0.1) (24.2)\n",
            "Requirement already satisfied: pluggy<2,>=1.5 in /usr/local/lib/python3.11/dist-packages (from pytest>=8.3.5->lyric_video==0.0.1) (1.5.0)\n",
            "Requirement already satisfied: six>=1.5 in /usr/local/lib/python3.11/dist-packages (from python-dateutil>=2.8.2->lyric_video==0.0.1) (1.17.0)\n",
            "Requirement already satisfied: tqdm in /usr/local/lib/python3.11/dist-packages (from proglog<=1.0.0->moviepy>=2.1.2->lyric_video==0.0.1) (4.67.1)\n",
            "Building wheels for collected packages: lyric_video\n",
            "  Building wheel for lyric_video (pyproject.toml) ... \u001b[?25l\u001b[?25hdone\n",
            "  Created wheel for lyric_video: filename=lyric_video-0.0.1-py3-none-any.whl size=60296 sha256=e8ba857f52d460d81a19813597f32bad9d0e44e15c56f77954f8fb72364f8fda\n",
            "  Stored in directory: /root/.cache/pip/wheels/ed/a3/49/928ad5130b6c00e21189851452efffdb22b468754b1f83f772\n",
            "Successfully built lyric_video\n",
            "Installing collected packages: lyric_video\n",
            "  Attempting uninstall: lyric_video\n",
            "    Found existing installation: lyric_video 0.0.1\n",
            "    Uninstalling lyric_video-0.0.1:\n",
            "      Successfully uninstalled lyric_video-0.0.1\n",
            "Successfully installed lyric_video-0.0.1\n"
          ]
        },
        {
          "output_type": "display_data",
          "data": {
            "application/vnd.colab-display-data+json": {
              "pip_warning": {
                "packages": [
                  "subtitle"
                ]
              },
              "id": "440deabdc593426a97f43e64a9833cae"
            }
          },
          "metadata": {}
        }
      ]
    },
    {
      "cell_type": "markdown",
      "source": [
        "###Pre-Configuration"
      ],
      "metadata": {
        "id": "5BED-CDzQFIp"
      },
      "id": "5BED-CDzQFIp"
    },
    {
      "cell_type": "code",
      "source": [
        "import os\n",
        "\n",
        "media_base_dir = '/content/user_media'\n",
        "\n",
        "if not os.path.exists(media_base_dir):\n",
        "    os.makedirs(media_base_dir)\n",
        "    print(f\"Created directory: {media_base_dir}\")\n",
        "\n",
        "subdirectories = ['subtitles', 'music', 'images', 'font']\n",
        "\n",
        "for subdir in subdirectories:\n",
        "    subdir_path = os.path.join(media_base_dir, subdir)\n",
        "    if not os.path.exists(subdir_path):\n",
        "        os.makedirs(subdir_path)\n",
        "        print(f\"Created directory: {subdir_path}\")\n",
        "    else:\n",
        "        print(f\"Directory already exists: {subdir_path}\")"
      ],
      "metadata": {
        "id": "_7L3lFTYQIoA",
        "outputId": "f33fc61f-d091-4e9e-c8c9-c98c86a55b0f",
        "colab": {
          "base_uri": "https://localhost:8080/"
        }
      },
      "id": "_7L3lFTYQIoA",
      "execution_count": 19,
      "outputs": [
        {
          "output_type": "stream",
          "name": "stdout",
          "text": [
            "Directory already exists: /content/user_media/subtitles\n",
            "Directory already exists: /content/user_media/music\n",
            "Directory already exists: /content/user_media/images\n",
            "Created directory: /content/user_media/font\n"
          ]
        }
      ]
    },
    {
      "cell_type": "markdown",
      "source": [
        "###Configuration"
      ],
      "metadata": {
        "id": "85yGkZ8aPPj9"
      },
      "id": "85yGkZ8aPPj9"
    },
    {
      "cell_type": "markdown",
      "source": [
        "##Subtitles\n",
        "Upload subtitles in the 'user_media/subtitles' folder.\n",
        "\n",
        "You can get your subtitles from https://www.rentanadviser.com/subtitles/subtitle-finder-for-youtube-music-videos.aspx"
      ],
      "metadata": {
        "id": "A4AQ2smzPtdZ"
      },
      "id": "A4AQ2smzPtdZ"
    },
    {
      "cell_type": "code",
      "source": [
        "import glob\n",
        "\n",
        "subtitles_dir = '/content/user_media/subtitles'\n",
        "\n",
        "srt_files = glob.glob(os.path.join(subtitles_dir, '*.srt'))\n",
        "\n",
        "if srt_files:\n",
        "  subtitles_path = srt_files[0]\n",
        "  print(f\"Subtitles Found: {subtitles_path}\")\n",
        "else:\n",
        "  print(f\"No .srt files found in directory: {subtitles_dir}\")"
      ],
      "metadata": {
        "id": "tR5LVrllRXP4",
        "outputId": "97fe6bba-9467-4d57-8a04-4d9b3ca4d651",
        "colab": {
          "base_uri": "https://localhost:8080/"
        }
      },
      "id": "tR5LVrllRXP4",
      "execution_count": 21,
      "outputs": [
        {
          "output_type": "stream",
          "name": "stdout",
          "text": [
            "Subtitles Found: /content/user_media/subtitles/subtitle.srt\n"
          ]
        }
      ]
    },
    {
      "cell_type": "code",
      "source": [
        "from subtitle import get_subtitles\n",
        "\n",
        "subtitles = get_subtitles(subtitles_path)\n",
        "\n",
        "for subtitle in subtitles:\n",
        "    print(subtitle.content)"
      ],
      "metadata": {
        "collapsed": true,
        "id": "5VpOc4YaSbRT",
        "outputId": "901ae674-04b8-45dc-ed84-b8fb16d938a2",
        "colab": {
          "base_uri": "https://localhost:8080/"
        }
      },
      "id": "5VpOc4YaSbRT",
      "execution_count": 13,
      "outputs": [
        {
          "output_type": "stream",
          "name": "stdout",
          "text": [
            "I want you to stay\n",
            "'Til I'm in the grave\n",
            "'Til I rot away,\n",
            "dead and buried\n",
            "'Til I'm in the casket\n",
            "you carry\n",
            "If you go, I'm going too, uh\n",
            "'Cause it was always you,\n",
            "alright\n",
            "And if I'm turning blue,\n",
            "please don't save me\n",
            "Nothing left to lose\n",
            "without my baby\n",
            "Birds of a feather, we should\n",
            "stick together, I know\n",
            "I said I'd never think I\n",
            "wasn't better alone\n",
            "Can't change the weather,\n",
            "might not be forever\n",
            "But if it's forever,\n",
            "it's even better\n",
            "And I don't know\n",
            "what I'm crying for\n",
            "I don't think\n",
            "I could love you more\n",
            "It might not be long,\n",
            "but baby, I\n",
            "I'll love you 'til the day\n",
            "that I die\n",
            "'Til the day that I die\n",
            "'Til the light\n",
            "leaves my eyes\n",
            "'Til the day that I die\n",
            "I want you to see, hm\n",
            "How you look to me, hm\n",
            "You wouldn't believe\n",
            "if I told ya\n",
            "You would keep the compliments\n",
            "I throw ya\n",
            "But you're\n",
            "so full of shit, uh\n",
            "Tell me it's a bit, oh\n",
            "Say you don't see it, your\n",
            "mind's polluted\n",
            "Say you wanna quit,\n",
            "don't be stupid\n",
            "And I don't know\n",
            "what I'm crying for\n",
            "I don't think\n",
            "I could love you more\n",
            "Might not be long,\n",
            "but baby, I\n",
            "Don't wanna say goodbye\n",
            "Birds of a feather, we should\n",
            "stick together, I know ('til\n",
            "the day that I die)\n",
            "I said I'd never think I wasn't\n",
            "better alone ('til the\n",
            "light leaves my eyes)\n",
            "Can't change the weather,\n",
            "might not be forever\n",
            "('Til the day that I die) but if it's\n",
            "forever, it's even better\n",
            "I knew you in another life\n",
            "You had that same look\n",
            "in your eyes\n",
            "I love you,\n",
            "don't act so surprised\n"
          ]
        }
      ]
    },
    {
      "cell_type": "markdown",
      "source": [
        "##Objects"
      ],
      "metadata": {
        "id": "_TZ1TmRiVsB_"
      },
      "id": "_TZ1TmRiVsB_"
    },
    {
      "cell_type": "markdown",
      "source": [
        "###Create Scene Object"
      ],
      "metadata": {
        "id": "EHAK2TwRUdxa"
      },
      "id": "EHAK2TwRUdxa"
    },
    {
      "cell_type": "code",
      "source": [
        "from Scene import Scene\n",
        "\n",
        "canvas_size = 13000\n",
        "\n",
        "scene_text = Scene(canvas_size, canvas_size)"
      ],
      "metadata": {
        "id": "A5G6nIBRUffF"
      },
      "id": "A5G6nIBRUffF",
      "execution_count": 18,
      "outputs": []
    },
    {
      "cell_type": "markdown",
      "source": [
        "###Create Text Objects"
      ],
      "metadata": {
        "id": "jRUrLJgsTzdV"
      },
      "id": "jRUrLJgsTzdV"
    },
    {
      "cell_type": "markdown",
      "source": [
        "####Font\n",
        "Place your font file to '/content/usermedia/font'\n",
        "\n",
        "You can get your font files from https://www.dafont.com/."
      ],
      "metadata": {
        "id": "5MOwsGb7WrXz"
      },
      "id": "5MOwsGb7WrXz"
    },
    {
      "cell_type": "code",
      "source": [
        "import glob\n",
        "\n",
        "font_dir = '/content/user_media/font'\n",
        "\n",
        "font_files = glob.glob(os.path.join(font_dir, '*.ttf')) + glob.glob(os.path.join(font_dir, '*.otf'))\n",
        "\n",
        "if font_files:\n",
        "  font_path = font_files[0]\n",
        "  print(f\"Font Found: {font_path}\")\n",
        "else:\n",
        "  print(f\"No .ttf or .otf files found in directory: {font_dir}\")"
      ],
      "metadata": {
        "id": "DbQ9jtDrWSPW",
        "outputId": "0f9653de-bb72-4a11-ff98-0e74df946659",
        "colab": {
          "base_uri": "https://localhost:8080/"
        }
      },
      "id": "DbQ9jtDrWSPW",
      "execution_count": 27,
      "outputs": [
        {
          "output_type": "stream",
          "name": "stdout",
          "text": [
            "Font Found: /content/user_media/font/Valentine Cute.ttf\n"
          ]
        }
      ]
    },
    {
      "cell_type": "code",
      "source": [
        "from elements import TextElement\n",
        "from PIL import ImageFont\n",
        "\n",
        "font_size = 56\n",
        "\n",
        "font_obj = ImageFont.truetype(font_path, 100)\n",
        "\n",
        "for subtile in subtitles:\n",
        "        text_element = TextElement(\n",
        "            text=subtile.content, start=subtile.start, end=subtile.end, font=font_obj\n",
        "        )\n",
        "        scene_text.add_object(text_element)"
      ],
      "metadata": {
        "id": "91RRgS86T3C7"
      },
      "id": "91RRgS86T3C7",
      "execution_count": 28,
      "outputs": []
    }
  ],
  "metadata": {
    "language_info": {
      "name": "python"
    },
    "colab": {
      "provenance": [],
      "include_colab_link": true
    },
    "kernelspec": {
      "name": "python3",
      "display_name": "Python 3"
    }
  },
  "nbformat": 4,
  "nbformat_minor": 5
}