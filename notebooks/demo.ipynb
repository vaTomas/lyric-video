{
  "cells": [
    {
      "cell_type": "markdown",
      "metadata": {
        "id": "view-in-github",
        "colab_type": "text"
      },
      "source": [
        "<a href=\"https://colab.research.google.com/github/vaTomas/lyric-video/blob/notebooks/notebooks/demo.ipynb\" target=\"_parent\"><img src=\"https://colab.research.google.com/assets/colab-badge.svg\" alt=\"Open In Colab\"/></a>"
      ]
    },
    {
      "cell_type": "markdown",
      "source": [
        "##Startup"
      ],
      "metadata": {
        "id": "sjAVodKvOnft"
      },
      "id": "sjAVodKvOnft"
    },
    {
      "cell_type": "markdown",
      "source": [
        "### Install Dependencies"
      ],
      "metadata": {
        "id": "U2r_Q92WNBYN"
      },
      "id": "U2r_Q92WNBYN"
    },
    {
      "cell_type": "code",
      "execution_count": null,
      "id": "3bd7e792",
      "metadata": {
        "vscode": {
          "languageId": "plaintext"
        },
        "id": "3bd7e792"
      },
      "outputs": [],
      "source": [
        "!git clone https://github.com/vaTomas/lyric-video.git"
      ]
    },
    {
      "cell_type": "code",
      "source": [
        "%pip install '/content/lyric-video/'"
      ],
      "metadata": {
        "collapsed": true,
        "id": "YKy_ojbRNao0"
      },
      "id": "YKy_ojbRNao0",
      "execution_count": null,
      "outputs": []
    },
    {
      "cell_type": "markdown",
      "source": [
        "###Pre-Configuration"
      ],
      "metadata": {
        "id": "5BED-CDzQFIp"
      },
      "id": "5BED-CDzQFIp"
    },
    {
      "cell_type": "code",
      "source": [
        "import os\n",
        "\n",
        "media_base_dir = '/content/user_media'\n",
        "\n",
        "if not os.path.exists(media_base_dir):\n",
        "    os.makedirs(media_base_dir)\n",
        "    print(f\"Created directory: {media_base_dir}\")\n",
        "\n",
        "subdirectories = ['subtitles', 'music', 'images', 'font']\n",
        "\n",
        "for subdir in subdirectories:\n",
        "    subdir_path = os.path.join(media_base_dir, subdir)\n",
        "    if not os.path.exists(subdir_path):\n",
        "        os.makedirs(subdir_path)\n",
        "        print(f\"Created directory: {subdir_path}\")\n",
        "    else:\n",
        "        print(f\"Directory already exists: {subdir_path}\")"
      ],
      "metadata": {
        "id": "_7L3lFTYQIoA"
      },
      "id": "_7L3lFTYQIoA",
      "execution_count": null,
      "outputs": []
    },
    {
      "cell_type": "markdown",
      "source": [
        "###Configuration"
      ],
      "metadata": {
        "id": "85yGkZ8aPPj9"
      },
      "id": "85yGkZ8aPPj9"
    },
    {
      "cell_type": "markdown",
      "source": [
        "##Subtitles\n",
        "Upload subtitles in the 'user_media/subtitles' folder.\n",
        "\n",
        "You can get your subtitles from https://www.rentanadviser.com/subtitles/subtitle-finder-for-youtube-music-videos.aspx"
      ],
      "metadata": {
        "id": "A4AQ2smzPtdZ"
      },
      "id": "A4AQ2smzPtdZ"
    },
    {
      "cell_type": "code",
      "source": [
        "import glob\n",
        "\n",
        "subtitles_dir = '/content/user_media/subtitles'\n",
        "\n",
        "srt_files = glob.glob(os.path.join(subtitles_dir, '*.srt'))\n",
        "\n",
        "if srt_files:\n",
        "  subtitles_path = srt_files[0]\n",
        "  print(f\"Subtitles Found: {subtitles_path}\")\n",
        "else:\n",
        "  print(f\"No .srt files found in directory: {subtitles_dir}\")"
      ],
      "metadata": {
        "id": "tR5LVrllRXP4"
      },
      "id": "tR5LVrllRXP4",
      "execution_count": null,
      "outputs": []
    },
    {
      "cell_type": "code",
      "source": [
        "from subtitle import get_subtitles\n",
        "\n",
        "subtitles = get_subtitles(subtitles_path)\n",
        "\n",
        "for subtitle in subtitles:\n",
        "    print(subtitle.content)"
      ],
      "metadata": {
        "collapsed": true,
        "id": "5VpOc4YaSbRT"
      },
      "id": "5VpOc4YaSbRT",
      "execution_count": null,
      "outputs": []
    },
    {
      "cell_type": "markdown",
      "source": [
        "##Objects"
      ],
      "metadata": {
        "id": "_TZ1TmRiVsB_"
      },
      "id": "_TZ1TmRiVsB_"
    },
    {
      "cell_type": "markdown",
      "source": [
        "###Create Scene Object"
      ],
      "metadata": {
        "id": "EHAK2TwRUdxa"
      },
      "id": "EHAK2TwRUdxa"
    },
    {
      "cell_type": "code",
      "source": [
        "from Scene import Scene\n",
        "\n",
        "canvas_size = 13000\n",
        "resolution = (1920, 1080) # Width, Height\n",
        "\n",
        "scene_text = Scene(canvas_size, canvas_size)"
      ],
      "metadata": {
        "id": "A5G6nIBRUffF"
      },
      "id": "A5G6nIBRUffF",
      "execution_count": null,
      "outputs": []
    },
    {
      "cell_type": "markdown",
      "source": [
        "###Create Text Objects"
      ],
      "metadata": {
        "id": "jRUrLJgsTzdV"
      },
      "id": "jRUrLJgsTzdV"
    },
    {
      "cell_type": "markdown",
      "source": [
        "####Font\n",
        "Place your font file to '/content/usermedia/font'\n",
        "\n",
        "You can get your font files from https://www.dafont.com/."
      ],
      "metadata": {
        "id": "5MOwsGb7WrXz"
      },
      "id": "5MOwsGb7WrXz"
    },
    {
      "cell_type": "code",
      "source": [
        "import glob\n",
        "\n",
        "font_dir = '/content/user_media/font'\n",
        "\n",
        "font_files = glob.glob(os.path.join(font_dir, '*.ttf')) + glob.glob(os.path.join(font_dir, '*.otf'))\n",
        "\n",
        "if font_files:\n",
        "  font_path = font_files[0]\n",
        "  print(f\"Font Found: {font_path}\")\n",
        "else:\n",
        "  print(f\"No .ttf or .otf files found in directory: {font_dir}\")"
      ],
      "metadata": {
        "id": "DbQ9jtDrWSPW"
      },
      "id": "DbQ9jtDrWSPW",
      "execution_count": null,
      "outputs": []
    },
    {
      "cell_type": "code",
      "source": [
        "from elements import TextElement\n",
        "from PIL import ImageFont\n",
        "\n",
        "font_size = 52\n",
        "\n",
        "font_obj = ImageFont.truetype(font_path, font_size)\n",
        "\n",
        "for subtile in subtitles:\n",
        "        text_element = TextElement(\n",
        "            text=subtile.content, start=subtile.start, end=subtile.end, font=font_obj\n",
        "        )\n",
        "        text_element.position = (resolution[0] / 2, resolution[1] / 2)\n",
        "        scene_text.add_object(text_element)"
      ],
      "metadata": {
        "id": "91RRgS86T3C7"
      },
      "id": "91RRgS86T3C7",
      "execution_count": null,
      "outputs": []
    },
    {
      "cell_type": "markdown",
      "source": [
        "Preview Text"
      ],
      "metadata": {
        "id": "OfcLumriEffy"
      },
      "id": "OfcLumriEffy"
    },
    {
      "cell_type": "code",
      "source": [
        "from PIL import Image\n",
        "\n",
        "prev_text_element = scene_text.elements[0]\n",
        "\n",
        "prev_image = Image.new('RGB', resolution, \"white\")\n",
        "prev_text_element.draw(prev_image)\n",
        "display(prev_image)"
      ],
      "metadata": {
        "id": "75WchDC_EinS"
      },
      "id": "75WchDC_EinS",
      "execution_count": null,
      "outputs": []
    }
  ],
  "metadata": {
    "language_info": {
      "name": "python"
    },
    "colab": {
      "provenance": [],
      "include_colab_link": true
    },
    "kernelspec": {
      "name": "python3",
      "display_name": "Python 3"
    }
  },
  "nbformat": 4,
  "nbformat_minor": 5
}